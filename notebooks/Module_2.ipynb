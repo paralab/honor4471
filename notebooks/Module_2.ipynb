{
  "nbformat": 4,
  "nbformat_minor": 0,
  "metadata": {
    "colab": {
      "name": "Module_2.ipynb",
      "provenance": [],
      "collapsed_sections": [],
      "include_colab_link": true
    },
    "kernelspec": {
      "name": "python3",
      "display_name": "Python 3"
    }
  },
  "cells": [
    {
      "cell_type": "markdown",
      "metadata": {
        "id": "view-in-github",
        "colab_type": "text"
      },
      "source": [
        "<a href=\"https://colab.research.google.com/github/paralab/honor4471/blob/main/notebooks/Module_2.ipynb\" target=\"_parent\"><img src=\"https://colab.research.google.com/assets/colab-badge.svg\" alt=\"Open In Colab\"/></a>"
      ]
    },
    {
      "cell_type": "markdown",
      "metadata": {
        "id": "tL4mqRKtUjY6"
      },
      "source": [
        "# Module 2: Introduction to Python \r\n",
        "\r\n",
        "In this module, we will learn the basics of programming in Python. This will be done interactively, as we explore the [Stop and Frisk Data](https://www.nyclu.org/en/stop-and-frisk-data) from NYPD and try to recreate some of the plots and analysis from the NYCLU [2019 report](https://www.nyclu.org/sites/default/files/field_documents/20190314_nyclu_stopfrisk_singles.pdf). In order to be able to do this, there will be some parts of the code that you will simply be copying (initially). Don't worry too much about this initially, although a curious mind is always good. \r\n",
        "\r\n",
        "To make things simple, I have downloaded the data from [NYPD's website](https://www1.nyc.gov/site/nypd/stats/reports-analysis/stopfrisk.page) and saved them to my google drive under the `honor4471/nypd` directory. The files are a combination of Excel and CSV files (some of them zipped). I cleaned this up a bit, and my google drive looks like this. Its best to use your [gcloud account](https://gcloud.utah.edu/).\r\n",
        "\r\n",
        "You need not follow the same convention, although some simplification will possibly help.\r\n",
        "\r\n",
        "- My Drive\r\n",
        "  - honor4471\r\n",
        "    - nypd\r\n",
        "      - sqf-2003.csv\r\n",
        "      - sqf-2004.csv\r\n",
        "      - ...\r\n",
        "      - sqf-2016.csv\r\n",
        "      - sqf-2017.xlsx\r\n",
        "      - sqf-2018.xlsx\r\n",
        "      - sqf-2019.xlsx\r\n",
        "\r\n",
        "First, let us make sure we have access to our google drive within google colab. This requires the following code to be executed (use `Ctrl/Cmd+Enter` or click on the **play** button) and authenticated via google. \r\n"
      ]
    },
    {
      "cell_type": "code",
      "metadata": {
        "colab": {
          "base_uri": "https://localhost:8080/"
        },
        "id": "RWSJpsyKqHjH",
        "outputId": "c60a2859-cf38-4383-8860-573d250ea9de"
      },
      "source": [
        "from google.colab import drive\n",
        "drive.mount('/content/drive')"
      ],
      "execution_count": null,
      "outputs": [
        {
          "output_type": "stream",
          "text": [
            "Mounted at /content/drive\n"
          ],
          "name": "stdout"
        }
      ]
    },
    {
      "cell_type": "code",
      "metadata": {
        "colab": {
          "base_uri": "https://localhost:8080/"
        },
        "id": "heSwnaZwcSbL",
        "outputId": "8c3dd66a-7a27-48e1-934f-58abb259f3b9"
      },
      "source": [
        "import os\r\n",
        "print(os.getcwd())\r\n",
        "os.chdir('drive/MyDrive/honor4471')\r\n",
        "print(os.getcwd())\r\n",
        "print(os.listdir())"
      ],
      "execution_count": null,
      "outputs": [
        {
          "output_type": "stream",
          "text": [
            "/content\n",
            "/content/drive/MyDrive/honor4471\n",
            "['nypd']\n"
          ],
          "name": "stdout"
        }
      ]
    },
    {
      "cell_type": "markdown",
      "metadata": {
        "id": "mKL1Yq00X7k5"
      },
      "source": [
        "Now that our google drive is loaded (mounted), we can try to access the data. Now, it is not easy to load data from `xlsx` and `csv` files, and for this reason we will be using external packages to aid us. We will explore some of these packages in detail later, but for now, just follow the following examples. The first package is called [pandas](https://pandas.pydata.org/) that does a lot, but we will use it mainly for loading data (for now). \r\n",
        "\r\n",
        "Before we can use `pandas`, we need to let python know that we wish to use it, by using the `import` command. We will also need to use another package called [`numpy`](https://numpy.org/) that is needed by `pandas`. We will provide aliases for both of these so it is clear which commands are provided by these packages.\r\n",
        "\r\n",
        "```python\r\n",
        "import numpy as np\r\n",
        "import pandas as pd\r\n",
        "```\r\n",
        "\r\n",
        "Lets try and recreate a simpler version of Figure 5 from the report using only the 2017 data. We will be using packages to help us visualize/plot data as well. Here are the relevant commands to load these packages.\r\n",
        "\r\n",
        "```python\r\n",
        "import seaborn as sns\r\n",
        "sns.set_palette('Set2')\r\n",
        "import matplotlib.pyplot as plt\r\n",
        "%matplotlib inline\r\n",
        "```\r\n",
        "\r\n",
        "Let us load all our packages in a code cell now."
      ]
    },
    {
      "cell_type": "code",
      "metadata": {
        "id": "TkHwJGBCUekC"
      },
      "source": [
        "import numpy as np\r\n",
        "import pandas as pd\r\n",
        "\r\n",
        "import seaborn as sns\r\n",
        "sns.set_palette('Set2')\r\n",
        "import matplotlib.pyplot as plt\r\n",
        "%matplotlib inline"
      ],
      "execution_count": null,
      "outputs": []
    },
    {
      "cell_type": "markdown",
      "metadata": {
        "id": "-2LIwgLRZNKz"
      },
      "source": [
        "Let us start by using `pandas` to load the 2017 dataset. This can be done using the following command,\r\n",
        "\r\n",
        "```python\r\n",
        "data = pd.read_excel (r'/content/drive/My Drive/honor4471/nypd/sqf-2017.xlsx')\r\n",
        "```\r\n",
        "\r\n"
      ]
    },
    {
      "cell_type": "code",
      "metadata": {
        "id": "s4qtb7DTbVLB"
      },
      "source": [
        "data = pd.read_excel (r'nypd/sqf-2017.xlsx')"
      ],
      "execution_count": null,
      "outputs": []
    },
    {
      "cell_type": "markdown",
      "metadata": {
        "id": "lFYTxXOhK5U0"
      },
      "source": [
        "Now, in order to plot the race of the stops, we need to find this from our dataset. The file is basically a table, so we can look at the top row to determine which entry has the race."
      ]
    },
    {
      "cell_type": "code",
      "metadata": {
        "colab": {
          "base_uri": "https://localhost:8080/"
        },
        "id": "G5Spjbvk37U0",
        "outputId": "9f9ec491-87c5-4545-a1d4-4540764f8aae"
      },
      "source": [
        "hdr = data.columns\n",
        "print(hdr)"
      ],
      "execution_count": null,
      "outputs": [
        {
          "output_type": "stream",
          "text": [
            "Index(['STOP_FRISK_ID', 'STOP_FRISK_DATE', 'STOP_FRISK_TIME', 'YEAR2',\n",
            "       'MONTH2', 'DAY2', 'STOP_WAS_INITIATED', 'RECORD_STATUS_CODE',\n",
            "       'ISSUING_OFFICER_RANK', 'ISSUING_OFFICER_COMMAND_CODE',\n",
            "       'SUPERVISING_OFFICER_RANK', 'SUPERVISING_OFFICER_COMMAND_CODE',\n",
            "       'SUPERVISING_ACTION_CORRESPONDING_ACTIVITY_LOG_ENTRY_REVIEWED',\n",
            "       'LOCATION_IN_OUT_CODE', 'JURISDICTION_CODE', 'JURISDICTION_DESCRIPTION',\n",
            "       'OBSERVED_DURATION_MINUTES', 'SUSPECTED_CRIME_DESCRIPTION',\n",
            "       'STOP_DURATION_MINUTES', 'OFFICER_EXPLAINED_STOP_FLAG',\n",
            "       'OFFICER_NOT_EXPLAINED_STOP_DESCRIPTION', 'OTHER_PERSON_STOPPED_FLAG',\n",
            "       'SUSPECT_ARRESTED_FLAG', 'SUSPECT_ARREST_OFFENSE',\n",
            "       'SUMMONS_ISSUED_FLAG', 'SUMMONS_OFFENSE_DESCRIPTION',\n",
            "       'OFFICER_IN_UNIFORM_FLAG', 'ID_CARD_IDENTIFIES_OFFICER_FLAG',\n",
            "       'SHIELD_IDENTIFIES_OFFICER_FLAG', 'VERBAL_IDENTIFIES_OFFICER_FLAG',\n",
            "       'FRISKED_FLAG', 'SEARCHED_FLAG', 'OTHER_CONTRABAND_FLAG',\n",
            "       'FIREARM_FLAG', 'KNIFE_CUTTER_FLAG', 'OTHER_WEAPON_FLAG',\n",
            "       'WEAPON_FOUND_FLAG', 'PHYSICAL_FORCE_CEW_FLAG',\n",
            "       'PHYSICAL_FORCE_DRAW_POINT_FIREARM_FLAG',\n",
            "       'PHYSICAL_FORCE_HANDCUFF_SUSPECT_FLAG',\n",
            "       'PHYSICAL_FORCE_OC_SPRAY_USED_FLAG', 'PHYSICAL_FORCE_OTHER_FLAG',\n",
            "       'PHYSICAL_FORCE_RESTRAINT_USED_FLAG',\n",
            "       'PHYSICAL_FORCE_VERBAL_INSTRUCTION_FLAG',\n",
            "       'PHYSICAL_FORCE_WEAPON_IMPACT_FLAG',\n",
            "       'BACKROUND_CIRCUMSTANCES_VIOLENT_CRIME_FLAG',\n",
            "       'BACKROUND_CIRCUMSTANCES_SUSPECT_KNOWN_TO_CARRY_WEAPON_FLAG',\n",
            "       'SUSPECTS_ACTIONS_CASING_FLAG',\n",
            "       'SUSPECTS_ACTIONS_CONCEALED_POSSESSION_WEAPON_FLAG',\n",
            "       'SUSPECTS_ACTIONS_DECRIPTION_FLAG',\n",
            "       'SUSPECTS_ACTIONS_DRUG_TRANSACTIONS_FLAG',\n",
            "       'SUSPECTS_ACTIONS_IDENTIFY_CRIME_PATTERN_FLAG',\n",
            "       'SUSPECTS_ACTIONS_LOOKOUT_FLAG', 'SUSPECTS_ACTIONS_OTHER_FLAG',\n",
            "       'SUSPECTS_ACTIONS_PROXIMITY_TO_SCENE_FLAG',\n",
            "       'SEARCH_BASIS_ADMISSION_FLAG', 'SEARCH_BASIS_CONSENT_FLAG',\n",
            "       'SEARCH_BASIS_HARD_OBJECT_FLAG',\n",
            "       'SEARCH_BASIS_INCIDENTAL_TO_ARREST_FLAG', 'SEARCH_BASIS_OTHER_FLAG',\n",
            "       'SEARCH_BASIS_OUTLINE_FLAG', 'DEMEANOR_CODE',\n",
            "       'DEMEANOR_OF_PERSON_STOPPED', 'SUSPECT_REPORTED_AGE', 'SUSPECT_SEX',\n",
            "       'SUSPECT_RACE_DESCRIPTION', 'SUSPECT_HEIGHT', 'SUSPECT_WEIGHT',\n",
            "       'SUSPECT_BODY_BUILD_TYPE', 'SUSPECT_EYE_COLOR', 'SUSPECT_HAIR_COLOR',\n",
            "       'SUSPECT_OTHER_DESCRIPTION', 'STOP_LOCATION_PRECINCT',\n",
            "       'STOP_LOCATION_SECTOR_CODE', 'STOP_LOCATION_APARTMENT',\n",
            "       'STOP_LOCATION_FULL_ADDRESS', 'STOP_LOCATION_PREMISES_NAME',\n",
            "       'STOP_LOCATION_STREET_NAME', 'STOP_LOCATION_X', 'STOP_LOCATION_Y',\n",
            "       'STOP_LOCATION_ZIP_CODE', 'STOP_LOCATION_PATROL_BORO_NAME',\n",
            "       'STOP_LOCATION_BORO_NAME'],\n",
            "      dtype='object')\n"
          ],
          "name": "stdout"
        }
      ]
    },
    {
      "cell_type": "markdown",
      "metadata": {
        "id": "fy76rerWLurG"
      },
      "source": [
        "This shows there are 83 columns in the data and the headers are stored in the *variable* `hdr`. While we can go over these 83 names to spot the one containing the race, I am lazy. Let us see if we can (computationally) search for 'RACE' in the header. While there are more efficient ways of doing this, let us write some simple code to do this. You should at this point recall that this looks suspiciously close to us finding the minimum card in `selectionSort`.\r\n"
      ]
    },
    {
      "cell_type": "code",
      "metadata": {
        "colab": {
          "base_uri": "https://localhost:8080/"
        },
        "id": "_ACkih8jMIT_",
        "outputId": "b64368fa-1769-45ca-8839-bc1c5de52bc1"
      },
      "source": [
        "for col in data.columns:\r\n",
        "  if 'RACE' in col:\r\n",
        "    print(col)"
      ],
      "execution_count": null,
      "outputs": [
        {
          "output_type": "stream",
          "text": [
            "SUSPECT_RACE_DESCRIPTION\n"
          ],
          "name": "stdout"
        }
      ]
    },
    {
      "cell_type": "markdown",
      "metadata": {
        "id": "3td0pOHEOASz"
      },
      "source": [
        "OK! That looks like what we wanted. Note that we have used a simple `for` **loop** over the column names, and seen if any of the column names contains 'race'. I use capital letters as I remembered from the previous printing of column names that they were all in capitals. I could have instead looked in a case-agnostic fashion, but that is more complicated (for now) and I instead simplified the *model* and used the *a priori* knowledge I had. Similar to how we did with sort, we can determine the index as well."
      ]
    },
    {
      "cell_type": "code",
      "metadata": {
        "colab": {
          "base_uri": "https://localhost:8080/"
        },
        "id": "PDG8PCMEPKMY",
        "outputId": "9f69020a-934e-47f8-b19c-bde132648510"
      },
      "source": [
        "i = 0\r\n",
        "for col in data.columns:\r\n",
        "  if 'RACE' in col:\r\n",
        "    race_index = i\r\n",
        "    print(col)\r\n",
        "  i = i+1\r\n",
        "print('Race is in column: ', race_index)\r\n",
        "print(hdr[race_index])"
      ],
      "execution_count": null,
      "outputs": [
        {
          "output_type": "stream",
          "text": [
            "SUSPECT_RACE_DESCRIPTION\n",
            "Race is in column:  65\n",
            "SUSPECT_RACE_DESCRIPTION\n"
          ],
          "name": "stdout"
        }
      ]
    },
    {
      "cell_type": "markdown",
      "metadata": {
        "id": "oaueb6iePwSO"
      },
      "source": [
        "Now we are getting somewhere. Let us see what the race column looks like."
      ]
    },
    {
      "cell_type": "code",
      "metadata": {
        "colab": {
          "base_uri": "https://localhost:8080/"
        },
        "id": "MDZ6JZJBP1hn",
        "outputId": "9479891d-3f70-4085-e40e-2de89ae5d31d"
      },
      "source": [
        "print(data['SUSPECT_RACE_DESCRIPTION'])"
      ],
      "execution_count": null,
      "outputs": [
        {
          "output_type": "stream",
          "text": [
            "0                (null)\n",
            "1                (null)\n",
            "2                 WHITE\n",
            "3        BLACK HISPANIC\n",
            "4                 BLACK\n",
            "              ...      \n",
            "11624             BLACK\n",
            "11625    WHITE HISPANIC\n",
            "11626             BLACK\n",
            "11627             BLACK\n",
            "11628             WHITE\n",
            "Name: SUSPECT_RACE_DESCRIPTION, Length: 11629, dtype: object\n"
          ],
          "name": "stdout"
        }
      ]
    },
    {
      "cell_type": "markdown",
      "metadata": {
        "id": "UQyOxlXTQuu8"
      },
      "source": [
        "Ok, now looking at this and Figure 5, we would like to count all occurances of different races. There are several ways of doing this, but lets start with some basic and easy ways of doing this. (Note this is not the most efficient, but should be ok for our purposes). We will use a [Dictionary]() data structure to store our information. The 'key' will be the race name, and the value will be the count. A simpler version is the set, that only keeps *unique* items without any associated data. We can use this to determine which races are present, and making our count computations easier. "
      ]
    },
    {
      "cell_type": "code",
      "metadata": {
        "colab": {
          "base_uri": "https://localhost:8080/"
        },
        "id": "TIe8f2BvRzd3",
        "outputId": "a51cd774-0648-4e29-81f1-073503eba68d"
      },
      "source": [
        "races = {\"BLACK\", \"WHITE\"}\r\n",
        "for r in data['SUSPECT_RACE_DESCRIPTION']:\r\n",
        "  races.add(r)\r\n",
        "print(races)"
      ],
      "execution_count": null,
      "outputs": [
        {
          "output_type": "stream",
          "text": [
            "{'MALE', 'WHITE', 'BLACK HISPANIC', 'WHITE HISPANIC', '(null)', 'AMER IND', 'ASIAN/PAC.ISL', 'BLACK'}\n"
          ],
          "name": "stdout"
        }
      ]
    },
    {
      "cell_type": "markdown",
      "metadata": {
        "id": "YfU3Z5AgS1XI"
      },
      "source": [
        "This looks mostly good (wrt Fig 5) except that *white hispanic* and *black hispanic* need to be added to both white/black and Latino. I am also not sure what Male is in this case, but lets leave it as is for now. We can remove *white hispanic* and *black hispanic* from `races` and add `Latino` instead. "
      ]
    },
    {
      "cell_type": "code",
      "metadata": {
        "colab": {
          "base_uri": "https://localhost:8080/"
        },
        "id": "ZVVxIP0QTYp7",
        "outputId": "7b6936df-1e67-4f2d-b4e9-ca6a29e7d4c5"
      },
      "source": [
        "races.remove('WHITE HISPANIC')\r\n",
        "races.remove('BLACK HISPANIC')\r\n",
        "races.add('LATINO')\r\n",
        "print(races)"
      ],
      "execution_count": null,
      "outputs": [
        {
          "output_type": "stream",
          "text": [
            "{'MALE', 'WHITE', '(null)', 'AMER IND', 'LATINO', 'ASIAN/PAC.ISL', 'BLACK'}\n"
          ],
          "name": "stdout"
        }
      ]
    },
    {
      "cell_type": "markdown",
      "metadata": {
        "id": "NuVWaxylTpdU"
      },
      "source": [
        "Ok, now lets go through the data, and count them as well. We can use our `races` variable to help us record these correctly, starting with creating a dictionary. "
      ]
    },
    {
      "cell_type": "code",
      "metadata": {
        "colab": {
          "base_uri": "https://localhost:8080/"
        },
        "id": "MFgXRYezUDEq",
        "outputId": "2eda93a4-0371-41bd-e1f6-d0583d4546c8"
      },
      "source": [
        "stops_by_race = {race: 0 for race in races}\r\n",
        "print(stops_by_race)"
      ],
      "execution_count": null,
      "outputs": [
        {
          "output_type": "stream",
          "text": [
            "{'MALE': 0, 'WHITE': 0, '(null)': 0, 'AMER IND': 0, 'LATINO': 0, 'ASIAN/PAC.ISL': 0, 'BLACK': 0}\n"
          ],
          "name": "stdout"
        }
      ]
    },
    {
      "cell_type": "code",
      "metadata": {
        "colab": {
          "base_uri": "https://localhost:8080/"
        },
        "id": "_xsCIlw-UP6E",
        "outputId": "71b68517-1341-4c05-e115-f1ffbb24b806"
      },
      "source": [
        "for r in data['SUSPECT_RACE_DESCRIPTION']:\r\n",
        "  if 'HISPANIC' in r:\r\n",
        "    stops_by_race['LATINO'] += 1\r\n",
        "    if 'BLACK' in r: \r\n",
        "      stops_by_race['BLACK'] += 1\r\n",
        "    else:\r\n",
        "      stops_by_race['WHITE'] += 1\r\n",
        "  else:\r\n",
        "    stops_by_race[r] += 1\r\n",
        "\r\n",
        "print(stops_by_race)"
      ],
      "execution_count": null,
      "outputs": [
        {
          "output_type": "stream",
          "text": [
            "{'MALE': 7, 'WHITE': 3547, '(null)': 268, 'AMER IND': 9, 'LATINO': 3567, 'ASIAN/PAC.ISL': 206, 'BLACK': 7592}\n"
          ],
          "name": "stdout"
        }
      ]
    },
    {
      "cell_type": "markdown",
      "metadata": {
        "id": "RbQh7YFv3NpH"
      },
      "source": [
        "Now, we can finally plot this as a pie chart. But before that, lets go and make `Male` also the same as `null`.\r\n",
        "\r\n",
        "Lets plot using `matplotlib`\r\n"
      ]
    },
    {
      "cell_type": "code",
      "metadata": {
        "colab": {
          "base_uri": "https://localhost:8080/",
          "height": 319
        },
        "id": "doJfwyD04UtD",
        "outputId": "28d246f1-6ca6-4ae8-df12-16989c39d65f"
      },
      "source": [
        "fig = plt.figure()\r\n",
        "ax = fig.add_axes([0,0,1,1])\r\n",
        "ax.axis('equal')\r\n",
        "ax.pie(list(stops_by_race.values()), labels = stops_by_race.keys(),autopct='%1.2f%%')\r\n",
        "plt.show()"
      ],
      "execution_count": null,
      "outputs": [
        {
          "output_type": "display_data",
          "data": {
            "image/png": "[encoded data removed]",
            "text/plain": [
              "<Figure size 432x288 with 1 Axes>"
            ]
          },
          "metadata": {
            "tags": []
          }
        }
      ]
    }
  ]
}